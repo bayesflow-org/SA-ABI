{
 "cells": [
  {
   "cell_type": "code",
   "execution_count": 2,
   "metadata": {},
   "outputs": [],
   "source": [
    "import os\n",
    "import sys\n",
    "import numpy as np\n",
    "from scipy import stats\n",
    "import matplotlib.pyplot as plt\n",
    "import seaborn as sns\n",
    "\n",
    "sys.path.extend([os.path.abspath(os.path.join(\"..\"))])\n",
    "from src.python.settings import plotting_settings"
   ]
  },
  {
   "cell_type": "markdown",
   "metadata": {},
   "source": [
    "Contains visualizations for the paper's main figure."
   ]
  },
  {
   "cell_type": "markdown",
   "metadata": {},
   "source": [
    "# Likelihood"
   ]
  },
  {
   "cell_type": "code",
   "execution_count": 8,
   "metadata": {},
   "outputs": [],
   "source": [
    "def plot_likelihood(alpha, likelihood_params, scaling, plotname=None):\n",
    "    \n",
    "    fig, ax = plt.subplots(1, 1, figsize=(1, 1))\n",
    "\n",
    "    x = np.linspace(0, 1, 100)\n",
    "    primary = stats.beta(*likelihood_params).pdf(x)\n",
    "    primary_scaled_low = stats.beta(scaling[0] * likelihood_params[0] + 1, scaling[0] * likelihood_params[1] + 1).pdf(x)\n",
    "    primary_scaled_high = stats.beta(scaling[1] * likelihood_params[0] + 1, scaling[1] * likelihood_params[1] + 1).pdf(x)\n",
    "\n",
    "    ax.plot(x, primary, color=plotting_settings[\"colors\"][1], alpha=alpha)\n",
    "    ax.plot(x, primary_scaled_low, color=plotting_settings[\"colors\"][1], alpha=alpha)\n",
    "    ax.plot(x, primary_scaled_high, color=plotting_settings[\"colors\"][1], alpha=alpha)\n",
    "\n",
    "    #ax.set_ylim(0, 5.5)\n",
    "    ax.set_yticks([])\n",
    "    ax.set_xticks([])\n",
    "    sns.despine(left=True)\n",
    "\n",
    "    if plotname:\n",
    "        plt.savefig(f\"../figures/likelihood_{plotname}.png\", dpi=300, bbox_inches=\"tight\")"
   ]
  },
  {
   "cell_type": "code",
   "execution_count": 74,
   "metadata": {},
   "outputs": [],
   "source": [
    "alpha = 0.7\n",
    "\n",
    "scaling = [0.2, 5]\n",
    "\n",
    "likelihood_low = [0.7, 3]\n",
    "likelihood_medium = [2, 4]\n",
    "likelihood_high = [5, 5]"
   ]
  },
  {
   "cell_type": "code",
   "execution_count": 75,
   "metadata": {},
   "outputs": [
    {
     "data": {
      "image/png": "[encoded data removed]",
      "text/plain": [
       "<Figure size 100x100 with 1 Axes>"
      ]
     },
     "metadata": {},
     "output_type": "display_data"
    }
   ],
   "source": [
    "plot_likelihood(alpha=alpha, likelihood_params=likelihood_low, scaling=scaling, plotname=\"low\")"
   ]
  },
  {
   "cell_type": "code",
   "execution_count": 76,
   "metadata": {},
   "outputs": [
    {
     "data": {
      "image/png": "[encoded data removed]",
      "text/plain": [
       "<Figure size 100x100 with 1 Axes>"
      ]
     },
     "metadata": {},
     "output_type": "display_data"
    }
   ],
   "source": [
    "plot_likelihood(alpha=alpha, likelihood_params=likelihood_medium, scaling=scaling, plotname=\"medium\")"
   ]
  },
  {
   "cell_type": "code",
   "execution_count": 77,
   "metadata": {},
   "outputs": [
    {
     "data": {
      "image/png": "[encoded data removed]",
      "text/plain": [
       "<Figure size 100x100 with 1 Axes>"
      ]
     },
     "metadata": {},
     "output_type": "display_data"
    }
   ],
   "source": [
    "plot_likelihood(alpha=alpha, likelihood_params=likelihood_high, scaling=scaling, plotname=\"high\")"
   ]
  },
  {
   "cell_type": "markdown",
   "metadata": {},
   "source": [
    "# Prior"
   ]
  },
  {
   "cell_type": "code",
   "execution_count": 90,
   "metadata": {},
   "outputs": [],
   "source": [
    "def plot_prior(mu, cov, plotname=None):\n",
    "    x = np.linspace(0, 1, 100)\n",
    "    X, Y = np.meshgrid(x, x)\n",
    "    XY = np.column_stack((X.ravel(), Y.ravel()))\n",
    "    Z = stats.multivariate_normal.pdf(XY, mean=mu, cov=cov).reshape(X.shape)\n",
    "\n",
    "    plt.figure(figsize=(1, 1))\n",
    "    plt.contourf(X, Y, Z, cmap='viridis')\n",
    "    #plt.contour(X, Y, Z, cmap='viridis')\n",
    "    plt.xticks([])\n",
    "    plt.yticks([])\n",
    "    sns.despine(left=True)\n",
    "\n",
    "    if plotname:\n",
    "        plt.savefig(f\"../figures/prior_{plotname}.png\", dpi=300, bbox_inches=\"tight\", pad_inches=-0.05)"
   ]
  },
  {
   "cell_type": "code",
   "execution_count": 91,
   "metadata": {},
   "outputs": [
    {
     "data": {
      "image/png": "[encoded data removed]",
      "text/plain": [
       "<Figure size 100x100 with 1 Axes>"
      ]
     },
     "metadata": {},
     "output_type": "display_data"
    }
   ],
   "source": [
    "mu = [0.4, 0.5]\n",
    "var = 0.02\n",
    "covariance = -0.005\n",
    "cov = [[var, covariance], [covariance, var]]\n",
    "plot_prior(mu, cov, \"1\")"
   ]
  },
  {
   "cell_type": "code",
   "execution_count": 92,
   "metadata": {},
   "outputs": [
    {
     "data": {
      "image/png": "[encoded data removed]",
      "text/plain": [
       "<Figure size 100x100 with 1 Axes>"
      ]
     },
     "metadata": {},
     "output_type": "display_data"
    }
   ],
   "source": [
    "mu = [0.7, 0.7]\n",
    "var = 0.08\n",
    "covariance = 0.06\n",
    "cov = [[var, covariance], [covariance, var]]\n",
    "plot_prior(mu, cov, \"2\")"
   ]
  },
  {
   "cell_type": "code",
   "execution_count": 93,
   "metadata": {},
   "outputs": [
    {
     "data": {
      "image/png": "[encoded data removed]",
      "text/plain": [
       "<Figure size 100x100 with 1 Axes>"
      ]
     },
     "metadata": {},
     "output_type": "display_data"
    }
   ],
   "source": [
    "mu = [0.3, 0.7]\n",
    "var = 0.1\n",
    "covariance = 0.02\n",
    "cov = [[var, covariance], [covariance, var]]\n",
    "plot_prior(mu, cov, \"3\")"
   ]
  },
  {
   "cell_type": "code",
   "execution_count": 95,
   "metadata": {},
   "outputs": [
    {
     "data": {
      "image/png": "[encoded data removed]",
      "text/plain": [
       "<Figure size 100x100 with 1 Axes>"
      ]
     },
     "metadata": {},
     "output_type": "display_data"
    }
   ],
   "source": [
    "mu = [0.7, 0.4]\n",
    "var = 0.015\n",
    "covariance = 0.0\n",
    "cov = [[var, covariance], [covariance, var]]\n",
    "plot_prior(mu, cov, \"4\")"
   ]
  },
  {
   "cell_type": "markdown",
   "metadata": {},
   "source": [
    "# Data"
   ]
  },
  {
   "cell_type": "code",
   "execution_count": 96,
   "metadata": {},
   "outputs": [],
   "source": [
    "def plot_data(alpha, N, noise, seed, plotname=None):\n",
    "    \n",
    "    fig, ax = plt.subplots(1, 1, figsize=(1, 1))\n",
    "\n",
    "    np.random.seed(seed)\n",
    "    x = np.random.rand(N)\n",
    "    noise = np.random.normal(0, noise, N)  # Adding some noise to x\n",
    "    y = x + noise \n",
    "\n",
    "    ax.scatter(x, y, color=plotting_settings[\"colors\"][2], alpha=alpha)\n",
    "    ax.set_yticks([])\n",
    "    ax.set_xticks([])\n",
    "    sns.despine(left=True)\n",
    "\n",
    "    if plotname:\n",
    "        plt.savefig(f\"../figures/data_{plotname}.png\", dpi=300, bbox_inches=\"tight\")"
   ]
  },
  {
   "cell_type": "code",
   "execution_count": 97,
   "metadata": {},
   "outputs": [],
   "source": [
    "N = 20\n",
    "noise = 0.5"
   ]
  },
  {
   "cell_type": "code",
   "execution_count": 114,
   "metadata": {},
   "outputs": [
    {
     "data": {
      "image/png": "[encoded data removed]",
      "text/plain": [
       "<Figure size 100x100 with 1 Axes>"
      ]
     },
     "metadata": {},
     "output_type": "display_data"
    }
   ],
   "source": [
    "plot_data(alpha, N, noise=0.2, seed=1, plotname=1)"
   ]
  },
  {
   "cell_type": "code",
   "execution_count": 115,
   "metadata": {},
   "outputs": [
    {
     "data": {
      "image/png": "[encoded data removed]",
      "text/plain": [
       "<Figure size 100x100 with 1 Axes>"
      ]
     },
     "metadata": {},
     "output_type": "display_data"
    }
   ],
   "source": [
    "plot_data(alpha, N, noise=0.4, seed=1, plotname=2)"
   ]
  },
  {
   "cell_type": "code",
   "execution_count": 116,
   "metadata": {},
   "outputs": [
    {
     "data": {
      "image/png": "[encoded data removed]",
      "text/plain": [
       "<Figure size 100x100 with 1 Axes>"
      ]
     },
     "metadata": {},
     "output_type": "display_data"
    }
   ],
   "source": [
    "plot_data(alpha, N, noise=0.7, seed=1, plotname=3)"
   ]
  },
  {
   "cell_type": "code",
   "execution_count": 117,
   "metadata": {},
   "outputs": [
    {
     "data": {
      "image/png": "[encoded data removed]",
      "text/plain": [
       "<Figure size 100x100 with 1 Axes>"
      ]
     },
     "metadata": {},
     "output_type": "display_data"
    }
   ],
   "source": [
    "plot_data(alpha, N, noise=0.3, seed=4, plotname=4)"
   ]
  }
 ],
 "metadata": {
  "kernelspec": {
   "display_name": "bf",
   "language": "python",
   "name": "python3"
  },
  "language_info": {
   "codemirror_mode": {
    "name": "ipython",
    "version": 3
   },
   "file_extension": ".py",
   "mimetype": "text/x-python",
   "name": "python",
   "nbconvert_exporter": "python",
   "pygments_lexer": "ipython3",
   "version": "3.10.10"
  }
 },
 "nbformat": 4,
 "nbformat_minor": 2
}
