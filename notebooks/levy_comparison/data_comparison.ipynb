{
 "cells": [
  {
   "cell_type": "code",
   "execution_count": null,
   "metadata": {},
   "outputs": [],
   "source": [
    "import os, sys\n",
    "\n",
    "sys.path.append(os.path.abspath(os.path.join(\"../..\")))  # access sibling directories\n",
    "sys.path.append(os.path.abspath(os.path.join(\"../../../BayesFlow_dev/BayesFlow/\")))\n",
    "\n",
    "from src.python.helpers import load_empirical_rt_data, join_and_fill_missings\n",
    "from src.python.helpers import (\n",
    "    load_empirical_rt_data, \n",
    "    join_and_fill_missings\n",
    ")\n",
    "from src.python.settings import plotting_settings\n",
    "\n",
    "import bayesflow as bf\n",
    "import numpy as np\n",
    "import tensorflow as tf\n",
    "import pandas as pd\n",
    "from functools import partial\n",
    "import matplotlib.pyplot as plt\n",
    "import seaborn as sns\n",
    "import pickle"
   ]
  },
  {
   "cell_type": "markdown",
   "metadata": {},
   "source": [
    "# Compare simulated and empirical data"
   ]
  },
  {
   "cell_type": "markdown",
   "metadata": {},
   "source": [
    "# Load data"
   ]
  },
  {
   "cell_type": "code",
   "execution_count": 2,
   "metadata": {},
   "outputs": [],
   "source": [
    "# Empirical data\n",
    "parent_folder = os.path.dirname(os.path.dirname(os.getcwd()))\n",
    "color_folder = os.path.join(\n",
    "    parent_folder, \"data/levy_comparison/data_rts/color\"\n",
    ")\n",
    "lexical_folder = os.path.join(\n",
    "    parent_folder, \"data/levy_comparison/data_rts/lexical\"\n",
    ")\n",
    "\n",
    "color_data = load_empirical_rt_data(color_folder)\n",
    "lexical_data = load_empirical_rt_data(lexical_folder)\n",
    "\n",
    "# Join experimental data and fill missing values\n",
    "empirical_data = join_and_fill_missings(\n",
    "    color_data, lexical_data, n_trials=900, missing_rts_equal_mean=True\n",
    ")"
   ]
  },
  {
   "cell_type": "code",
   "execution_count": 3,
   "metadata": {},
   "outputs": [],
   "source": [
    "# Test data\n",
    "# Powerscaled\n",
    "path = \"../../data/levy_comparison/sim_powerscaled/test.pkl\"\n",
    "with open(path, \"rb\") as file:\n",
    "    test_data_scaled = pickle.load(file)\n",
    "\n",
    "# Unscaled\n",
    "path = \"../../data/levy_comparison/sim_unscaled/test.pkl\"\n",
    "with open(path, \"rb\") as file:\n",
    "   test_data_unscaled = pickle.load(file)"
   ]
  },
  {
   "cell_type": "markdown",
   "metadata": {},
   "source": [
    "# Means"
   ]
  },
  {
   "cell_type": "code",
   "execution_count": 4,
   "metadata": {},
   "outputs": [
    {
     "data": {
      "text/plain": [
       "0.03169444444444444"
      ]
     },
     "execution_count": 4,
     "metadata": {},
     "output_type": "execute_result"
    }
   ],
   "source": [
    "# Amount of missing data filled - overall\n",
    "np.mean(empirical_data[..., 2] == -1)"
   ]
  },
  {
   "cell_type": "code",
   "execution_count": 5,
   "metadata": {},
   "outputs": [
    {
     "name": "stdout",
     "output_type": "stream",
     "text": [
      "[ True  True  True  True  True  True  True  True  True  True  True  True\n",
      "  True  True  True  True  True  True  True  True  True  True  True  True\n",
      "  True  True  True  True  True  True  True  True  True  True  True  True\n",
      "  True  True  True  True]\n"
     ]
    }
   ],
   "source": [
    "# Amount of missing data filled - person-wise, processed complete file and raw data files match\n",
    "coded_missings = np.sum(empirical_data[..., 2] == -1, axis=(0, 2))\n",
    "color_missings = np.array([500-x.shape[2] for x in color_data])\n",
    "lexical_missings = np.array([400-x.shape[2] for x in lexical_data])\n",
    "uncoded_missings = color_missings + lexical_missings\n",
    "print(np.equal(coded_missings, uncoded_missings))"
   ]
  },
  {
   "cell_type": "code",
   "execution_count": 11,
   "metadata": {},
   "outputs": [
    {
     "name": "stdout",
     "output_type": "stream",
     "text": [
      "0.0359\n",
      "0.0264375\n"
     ]
    }
   ],
   "source": [
    "# Percentage of missings per task - aligns with Wieschen et al. (2020)\n",
    "print(np.sum(color_missings)/(500*40))\n",
    "print(np.sum(lexical_missings)/(400*40))"
   ]
  },
  {
   "cell_type": "code",
   "execution_count": 7,
   "metadata": {},
   "outputs": [
    {
     "name": "stdout",
     "output_type": "stream",
     "text": [
      "0.4999579861111111 (M1)\n",
      "0.5000514444444445 (M2)\n",
      "0.5000030972222222 (M3)\n",
      "0.4999457361111111 (M4)\n",
      "0.5 (combined data)\n",
      "0.49912503361701965 (combined data without missings)\n",
      "0.4995979368686676 (color data)\n",
      "0.49849265813827515 (lexical data)\n"
     ]
    }
   ],
   "source": [
    "# Stimuli\n",
    "for model in [0, 1, 2, 3]:\n",
    "    sim_data = test_data_scaled[\"model_outputs\"][model][\"sim_data\"]\n",
    "    print(f\"{np.mean(sim_data[..., 0])} (M{model+1})\")\n",
    "print(f\"{np.mean(empirical_data[..., 0])} (combined data)\")\n",
    "print(f\"{np.mean(empirical_data[..., 0][empirical_data[..., 2] != -1])} (combined data without missings)\") \n",
    "print(f\"{np.mean([np.mean(x[..., 0]) for x in color_data])} (color data)\") # care: mean over person means\n",
    "print(f\"{np.mean([np.mean(x[..., 0]) for x in lexical_data])} (lexical data)\") # care: mean over person means"
   ]
  },
  {
   "cell_type": "code",
   "execution_count": 4,
   "metadata": {},
   "outputs": [
    {
     "name": "stdout",
     "output_type": "stream",
     "text": [
      "1.0377851534185822 (M1)\n",
      "1.0627947280967218 (M2)\n",
      "1.0137968000671536 (M3)\n",
      "1.0281704627141115 (M4)\n",
      "0.6249161958694458 (combined data)\n",
      "0.6259922385215759 (color data)\n",
      "0.6228166818618774 (lexical data)\n"
     ]
    }
   ],
   "source": [
    "# RTs\n",
    "for model in [0, 1, 2, 3]:\n",
    "    sim_data = test_data_scaled[\"model_outputs\"][model][\"sim_data\"]\n",
    "    print(f\"{np.mean(sim_data[..., 1])} (M{model+1})\")\n",
    "print(f\"{np.mean(empirical_data[..., 1])} (combined data)\")\n",
    "print(f\"{np.mean([np.mean(x[..., 1]) for x in color_data])} (color data)\") # care: mean over person means\n",
    "print(f\"{np.mean([np.mean(x[..., 1]) for x in lexical_data])} (lexical data)\") # care: mean over person means"
   ]
  },
  {
   "cell_type": "code",
   "execution_count": 6,
   "metadata": {},
   "outputs": [
    {
     "name": "stdout",
     "output_type": "stream",
     "text": [
      "0.5028425694444445 (M1)\n",
      "0.4988265972222222 (M2)\n",
      "0.4988627361111111 (M3)\n",
      "0.5006901388888889 (M4)\n",
      "0.4383888840675354 (combined data with missings)\n",
      "0.4854700267314911 (combined data without missings)\n",
      "0.5072606801986694 (color data)\n",
      "0.4583521783351898 (lexical data)\n"
     ]
    }
   ],
   "source": [
    "# Choices\n",
    "for model in [0, 1, 2, 3]:\n",
    "    sim_data = test_data_scaled[\"model_outputs\"][model][\"sim_data\"]\n",
    "    print(f\"{np.mean(sim_data[..., 2])} (M{model+1})\")\n",
    "print(f\"{np.mean(empirical_data[..., 2])} (combined data with missings)\") # lower as missing choices are coded with -1\n",
    "print(f\"{np.mean(empirical_data[..., 2][empirical_data[..., 2] != -1])} (combined data without missings)\") \n",
    "print(f\"{np.mean([np.mean(x[..., 2]) for x in color_data])} (color data)\") # care: mean over person means\n",
    "print(f\"{np.mean([np.mean(x[..., 2]) for x in lexical_data])} (lexical data)\") # care: mean over person means"
   ]
  },
  {
   "cell_type": "code",
   "execution_count": 8,
   "metadata": {},
   "outputs": [
    {
     "name": "stdout",
     "output_type": "stream",
     "text": [
      "0.9036507361111111 (M1)\n",
      "0.905632625 (M2)\n",
      "0.8237416805555555 (M3)\n",
      "0.8237620277777777 (M4)\n",
      "0.8553611111111111 (combined data with missings)\n",
      "0.8833586735132964 (combined data without missings)\n",
      "0.8599033038743695 (color data)\n",
      "0.912900105745672 (lexical data)\n"
     ]
    }
   ],
   "source": [
    "# Accuracies\n",
    "for model in [0, 1, 2, 3]:\n",
    "    sim_data = test_data_scaled[\"model_outputs\"][model][\"sim_data\"]\n",
    "    print(f\"{np.mean(sim_data[..., 0] == sim_data[..., 2])} (M{model+1})\")\n",
    "print(f\"{np.mean(empirical_data[..., 0] == empirical_data[..., 2])} (combined data with missings)\") # lower as missing choices are coded with -1\n",
    "print(f\"{np.mean(empirical_data[..., 0][empirical_data[..., 2] != -1] == empirical_data[..., 2][empirical_data[..., 2] != -1])} (combined data without missings)\")\n",
    "print(f\"{np.mean([np.mean(x[..., 0] == x[..., 2]) for x in color_data])} (color data)\") # care: mean over person means\n",
    "print(f\"{np.mean([np.mean(x[..., 0] == x[..., 2]) for x in lexical_data])} (lexical data)\") # care: mean over person means"
   ]
  },
  {
   "cell_type": "code",
   "execution_count": 9,
   "metadata": {},
   "outputs": [
    {
     "name": "stdout",
     "output_type": "stream",
     "text": [
      "0.8374041235132026 (M1)\n",
      "0.8635332276057334 (M2)\n",
      "0.813301043820246 (M3)\n",
      "0.8208780399855461 (M4)\n",
      "0.5631067961165048 (combined data with missings)\n"
     ]
    }
   ],
   "source": [
    "# Accuracies of fast responses\n",
    "for model in [0, 1, 2, 3]:\n",
    "    sim_data = test_data_scaled[\"model_outputs\"][model][\"sim_data\"]\n",
    "    filter = (sim_data[..., 1] < 0.3)\n",
    "    print(f\"{np.mean(sim_data[..., 0][filter] == sim_data[..., 2][filter])} (M{model+1})\")\n",
    "filter = (empirical_data[..., 1] < 0.3)\n",
    "print(f\"{np.mean(empirical_data[..., 0][filter] == empirical_data[..., 2][filter])} (combined data with missings)\")"
   ]
  },
  {
   "cell_type": "code",
   "execution_count": 29,
   "metadata": {},
   "outputs": [
    {
     "name": "stdout",
     "output_type": "stream",
     "text": [
      "3858.535 (M1)\n",
      "3096.412 (M2)\n",
      "4371.8395 (M3)\n",
      "3623.4205 (M4)\n",
      "206 (combined data with missings)\n"
     ]
    }
   ],
   "source": [
    "# Number of fast responses\n",
    "for model in [0, 1, 2, 3]:\n",
    "    sim_data = test_data_scaled[\"model_outputs\"][model][\"sim_data\"]\n",
    "    filter = (sim_data[..., 1] < 0.3)\n",
    "    print(f\"{sim_data[filter].shape[0]/sim_data.shape[0]} (M{model+1})\")\n",
    "filter = (empirical_data[..., 1] < 0.3)\n",
    "print(f\"{empirical_data[filter].shape[0]} (combined data with missings)\")"
   ]
  },
  {
   "cell_type": "code",
   "execution_count": 11,
   "metadata": {},
   "outputs": [
    {
     "name": "stderr",
     "output_type": "stream",
     "text": [
      "INFO:root:Trainer initialization: No generative model provided. Only offline learning mode is available!\n"
     ]
    }
   ],
   "source": [
    "# Check training (= configured with missing mask) simulation data \n",
    "from src.python.helpers import MaskingConfigurator\n",
    "\n",
    "masking_configurator = MaskingConfigurator(power_scaling=True)\n",
    "\n",
    "trainer = bf.trainers.Trainer(\n",
    "    amortizer=bf.amortizers.AmortizedModelComparison(bf.inference_networks.PMPNetwork(4)),\n",
    "    configurator=masking_configurator\n",
    ")\n",
    "sim_data_transformed = trainer.configurator(test_data_scaled)\n",
    "sim_indices = sim_data_transformed[\"model_indices\"]"
   ]
  },
  {
   "cell_type": "code",
   "execution_count": 16,
   "metadata": {},
   "outputs": [
    {
     "name": "stdout",
     "output_type": "stream",
     "text": [
      "Stimuli: 0.4999895659722222\n",
      "RTs: 0.9251838867765239\n",
      "Choices: 0.5021557291666666\n",
      "Accuracies: 0.8099632604166667\n"
     ]
    }
   ],
   "source": [
    "# Mean over all models before masking (no missings induced)\n",
    "print(f\"Stimuli: {np.mean([test_data_scaled['model_outputs'][model]['sim_data'][..., 0] for model in [0, 1, 2, 3]])}\")\n",
    "print(f\"RTs: {np.mean([test_data_scaled['model_outputs'][model]['sim_data'][..., 1] for model in [0, 1, 2, 3]])}\")\n",
    "print(f\"Choices: {np.mean([test_data_scaled['model_outputs'][model]['sim_data'][..., 2] for model in [0, 1, 2, 3]])}\")\n",
    "print(f\"Accuracies: {np.mean([test_data_scaled['model_outputs'][model]['sim_data'][..., 0] == test_data_scaled['model_outputs'][model]['sim_data'][..., 2] for model in [0, 1, 2, 3]])}\")"
   ]
  },
  {
   "cell_type": "code",
   "execution_count": 18,
   "metadata": {},
   "outputs": [
    {
     "name": "stdout",
     "output_type": "stream",
     "text": [
      "Fraction missing: 0.032308989583333336\n",
      "Stimuli: 0.4999905526638031\n",
      "RTs: 0.9251842498779297\n",
      "Choices: 0.45362627506256104\n",
      "Accuracies: 0.7837880069444444\n"
     ]
    }
   ],
   "source": [
    "# Mean over all models after masking\n",
    "print(f\"Fraction missing: {np.mean(sim_data_transformed['summary_conditions'][..., 2] == -1)}\")\n",
    "print(f\"Stimuli: {np.mean(sim_data_transformed['summary_conditions'][..., 0])}\")\n",
    "print(f\"RTs: {np.mean(sim_data_transformed['summary_conditions'][..., 1])}\")\n",
    "print(f\"Choices: {np.mean(sim_data_transformed['summary_conditions'][..., 2])}\") # lower because of -1s induced\n",
    "print(f\"Accuracies: {np.mean(sim_data_transformed['summary_conditions'][..., 0] == sim_data_transformed['summary_conditions'][..., 2])}\")"
   ]
  },
  {
   "cell_type": "markdown",
   "metadata": {},
   "source": [
    "# Distributions"
   ]
  },
  {
   "cell_type": "code",
   "execution_count": 8,
   "metadata": {},
   "outputs": [],
   "source": [
    "rts_sim_correct = []\n",
    "rts_sim_incorrect = []\n",
    "\n",
    "for model in range(4):\n",
    "    sim_data = test_data_scaled[\"model_outputs\"][model][\"sim_data\"]\n",
    "    correct = sim_data[..., 1][sim_data[..., 0] == sim_data[..., 2]]\n",
    "    rts_sim_correct.append(correct)\n",
    "    incorrect = sim_data[..., 1][sim_data[..., 0] != sim_data[..., 2]]\n",
    "    rts_sim_incorrect.append(incorrect)"
   ]
  },
  {
   "cell_type": "code",
   "execution_count": 9,
   "metadata": {},
   "outputs": [],
   "source": [
    "rts_emp_correct = empirical_data[..., 1][empirical_data[..., 0] == empirical_data[..., 2]]\n",
    "rts_emp_incorrect = empirical_data[..., 1][empirical_data[..., 0] != empirical_data[..., 2]]\n"
   ]
  },
  {
   "cell_type": "code",
   "execution_count": 18,
   "metadata": {},
   "outputs": [
    {
     "data": {
      "image/png": "[encoded data removed]",
      "text/plain": [
       "<Figure size 1200x500 with 2 Axes>"
      ]
     },
     "metadata": {},
     "output_type": "display_data"
    }
   ],
   "source": [
    "# Plot typical simulated rts vs empirical rts\n",
    "fig, axes = plt.subplots(1, 2, figsize=(12, 5))\n",
    "sim_data_lists = [rts_sim_correct, rts_sim_incorrect]\n",
    "emp_data_lists = [rts_emp_correct, rts_emp_incorrect]\n",
    "titles = ['RTs, correct answers', 'RTs, incorrect answers']\n",
    "\n",
    "\n",
    "for i, (data_list, title) in enumerate(zip(sim_data_lists, titles)):\n",
    "    ax = axes[i]\n",
    "    ax.set_title(title)\n",
    "    ax.set_xlim([0, 3])\n",
    "    ax.set_xlabel('Value')\n",
    "    ax.set_ylabel('Frequency')\n",
    "\n",
    "    for j, data in enumerate(data_list):\n",
    "        ax.hist(data, bins=1000, histtype='step', label=f'Model {j+1}', density = True)\n",
    "\n",
    "    ax.hist(emp_data_lists[i], bins = 100, histtype='step', label='Empirical data', density = True)\n",
    "\n",
    "    ax.legend()\n",
    "\n",
    "plt.tight_layout()\n",
    "plt.show()\n"
   ]
  }
 ],
 "metadata": {
  "kernelspec": {
   "display_name": "bf",
   "language": "python",
   "name": "python3"
  },
  "language_info": {
   "codemirror_mode": {
    "name": "ipython",
    "version": 3
   },
   "file_extension": ".py",
   "mimetype": "text/x-python",
   "name": "python",
   "nbconvert_exporter": "python",
   "pygments_lexer": "ipython3",
   "version": "3.10.10"
  },
  "orig_nbformat": 4
 },
 "nbformat": 4,
 "nbformat_minor": 2
}
